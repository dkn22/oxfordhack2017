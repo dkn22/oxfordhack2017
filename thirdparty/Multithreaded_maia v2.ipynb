{
 "cells": [
  {
   "cell_type": "code",
   "execution_count": 1,
   "metadata": {
    "collapsed": true
   },
   "outputs": [],
   "source": [
    "import requests\n",
    "import pandas as pd\n",
    "import numpy as np\n",
    "import operator\n",
    "import time\n",
    "import random \n",
    "from multiprocessing import Pool\n"
   ]
  },
  {
   "cell_type": "code",
   "execution_count": 15,
   "metadata": {
    "collapsed": true
   },
   "outputs": [],
   "source": [
    "subscription_key = 'ed417d6b03e844c5b3e4930400f178e4'\n",
    "\n",
    "def facekacke(filename):\n",
    "    uri_base = 'https://westcentralus.api.cognitive.microsoft.com'\n",
    "\n",
    "    headers = {\n",
    "    'Content-Type': 'application/octet-stream',\n",
    "    'Ocp-Apim-Subscription-Key': subscription_key,}\n",
    "\n",
    "    params = {\n",
    "   'returnFaceId': 'true', 'Adult': 'true',\n",
    "   'returnFaceLandmarks': 'false',\n",
    "   'returnFaceAttributes': 'age,gender,smile,facialHair,glasses,emotion,hair,makeup'}\n",
    "\n",
    "    path_to_face_api = '/face/v1.0/detect'\n",
    "\n",
    "    with open(filename, 'rb') as f:\n",
    "       img_data = f.read()\n",
    "    try:\n",
    "\n",
    "       response = requests.post(uri_base + path_to_face_api,\n",
    "                                data=img_data,\n",
    "                                headers=headers,\n",
    "                                params=params)\n",
    "\n",
    "       parsed = response.json()\n",
    "       return(parsed)\n",
    "     \n",
    "    except Exception as e:\n",
    "       return([])"
   ]
  },
  {
   "cell_type": "code",
   "execution_count": 3,
   "metadata": {
    "collapsed": true
   },
   "outputs": [],
   "source": []
  },
  {
   "cell_type": "code",
   "execution_count": 3,
   "metadata": {
    "collapsed": true
   },
   "outputs": [],
   "source": [
    "def getframes(file):\n",
    "    statlist = []\n",
    "    empty, full = 0,0\n",
    "    for x in file:\n",
    "        try:\n",
    "            y = facekacke(x)\n",
    "            if len(y) == 0:\n",
    "                empty +=1\n",
    "                print('full:'+str(full),\"empty:\"+ str(empty),\"total:\"+str(len(file)),x[11:-31]+'                       ', sep=' ', end='\\r', flush=True)\n",
    "            else:\n",
    "                y = [x] + y\n",
    "                statlist.append(y)\n",
    "                time.sleep(1)\n",
    "                full +=1\n",
    "                print('full:'+str(full),\"empty:\"+ str(empty),\"total:\"+str(len(file)),x[11:-31]+'                   ', sep=' ', end='\\r', flush=True)\n",
    "        except:\n",
    "            continue\n",
    "    return statlist"
   ]
  },
  {
   "cell_type": "code",
   "execution_count": 10,
   "metadata": {
    "collapsed": true
   },
   "outputs": [],
   "source": [
    "def keywithmaxval(d): \n",
    "     v=list(d.values())\n",
    "     k=list(d.keys())\n",
    "     return k[v.index(max(v))]\n",
    "\n",
    "sattributes = ['age','glasses','smile', 'gender']\n",
    "maxattributes = ['emotion','facialHair']\n",
    "\n",
    "def add_to_df(container):\n",
    "    df = pd.DataFrame(columns = ['id','age','glasses','smile', 'gender','emotion','facialHair'])\n",
    "    for instan in container:\n",
    "        try:\n",
    "            if len(instan)  == 0:\n",
    "                continue\n",
    "\n",
    "            else:\n",
    "                facial_tempdic = {}\n",
    "                facial_tempdic['id'] = instan[0]\n",
    "\n",
    "                for attri in sattributes: \n",
    "                    facial_tempdic[attri] =  instan[1]['faceAttributes'][attri]\n",
    "\n",
    "                for attri in maxattributes:\n",
    "                    stats = instan[1]['faceAttributes'][attri]\n",
    "                    facial_tempdic[attri] = keywithmaxval(stats) + \" \"+str(stats[keywithmaxval(stats)])\n",
    "\n",
    "                df = df.append(facial_tempdic, ignore_index = True)\n",
    "        except:\n",
    "            continue\n",
    "    return df"
   ]
  },
  {
   "cell_type": "code",
   "execution_count": 104,
   "metadata": {},
   "outputs": [],
   "source": [
    "def get_list(nr_samples,done):\n",
    "    stations = !ls -1 ./aggtrain/\n",
    "    station_pic = []\n",
    "\n",
    "    #for x in stations:\n",
    "        #print( x + \" = \" +\"!ls -1 ./aggtrain/\" + x + '/')\n",
    "\n",
    "    max7 = !ls -1 ./aggtrain/max7/\n",
    "    ard = !ls -1 ./aggtrain/ard/\n",
    "    br = !ls -1 ./aggtrain/br/\n",
    "    kabel1 = !ls -1 ./aggtrain/kabel1/\n",
    "    kabelDoku = !ls -1 ./aggtrain/kabelDoku/\n",
    "    mdr = !ls -1 ./aggtrain/mdr/\n",
    "    n24 = !ls -1 ./aggtrain/n24/\n",
    "    ndr = !ls -1 ./aggtrain/ndr/\n",
    "    prosieben = !ls -1 ./aggtrain/prosieben/\n",
    "    sat1 = !ls -1 ./aggtrain/sat1/\n",
    "    swr = !ls -1 ./aggtrain/swr/\n",
    "    wdr = !ls -1 ./aggtrain/wdr/\n",
    "    \n",
    "    ard = [\"./aggtrain/ard/\" + x for x in ard]\n",
    "    br = [\"./aggtrain/br/\" + x for x in br]\n",
    "    kabel1 = [\"./aggtrain/kabel1/\" + x for x in kabel1]\n",
    "    kabelDoku = [\"./aggtrain/kabelDoku/\" + x for x in kabelDoku]\n",
    "    max7 = [\"./aggtrain/max7/\" + x for x in max7]\n",
    "    mdr = [\"./aggtrain/mdr/\" + x for x in mdr]\n",
    "    n24 = [\"./aggtrain/n24/\" + x for x in n24]\n",
    "    ndr = [\"./aggtrain/ndr/\" + x for x in ndr]\n",
    "    prosieben = [\"./aggtrain/prosieben/\" + x for x in prosieben]\n",
    "    sat1 = [\"./aggtrain/sat1/\" + x for x in sat1]\n",
    "    swr = [\"./aggtrain/swr/\" + x for x in swr]\n",
    "    wdr = [\"./aggtrain/wdr/\" + x for x in wdr] \n",
    "    #for x in stations:\n",
    "    #print(\"{} = [\\\"./aggtrain/{}/\\\" + x for x in {}]\".format(x,x,x))\n",
    "    #for x in stations:\n",
    "        #print(\"{} = [ {}[l] for l in sorted(random.sample(range(len({})), nr_samples))]\".format(x,x,x))  \n",
    "        \n",
    "    ard = [x for x in ard if (str(x[-5:-4]) in [str(x) for x in [0,2,4,7]]) and x not in done]\n",
    "    br = [x for x in br if (str(x[-5:-4]) in [str(x) for x in [0,2,4,7]]) and x not in done]\n",
    "    kabel1 = [x for x in kabel1 if (str(x[-5:-4]) in [str(x) for x in [0,2,4,7]]) and x not in done]\n",
    "    kabelDoku = [x for x in kabelDoku if (str(x[-5:-4]) in [str(x) for x in [0,2,4,7]]) and x not in done]\n",
    "    max7 = [x for x in max7 if (str(x[-5:-4]) in [str(x) for x in [0,2,4,7]]) and x not in done]\n",
    "    mdr = [x for x in mdr if (str(x[-5:-4]) in [str(x) for x in [0,2,4,7]]) and x not in done]\n",
    "    n24 = [x for x in n24 if (str(x[-5:-4]) in [str(x) for x in [0,2,4,7]]) and x not in done]\n",
    "    ndr = [x for x in ndr if (str(x[-5:-4]) in [str(x) for x in [0,2,4,7]]) and x not in done]\n",
    "    prosieben = [x for x in prosieben if (str(x[-5:-4]) in [str(x) for x in [0,2,4,7]]) and x not in done]\n",
    "    sat1 = [x for x in sat1 if (str(x[-5:-4]) in [str(x) for x in [0,2,4,7]]) and x not in done]\n",
    "    swr = [x for x in swr if (str(x[-5:-4]) in [str(x) for x in [0,2,4,7]]) and x not in done]\n",
    "    wdr = [x for x in wdr if (str(x[-5:-4]) in [str(x) for x in [0,2,4,7]]) and x not in done]\n",
    "    \n",
    "    ard = ard[:nr_samples]\n",
    "    br = br[:nr_samples]\n",
    "    kabel1 = kabel1[:nr_samples]\n",
    "    kabelDoku = kabelDoku[:nr_samples]\n",
    "    max7 = max7[:nr_samples]\n",
    "    mdr = mdr[:nr_samples]\n",
    "    n24 = n24[:nr_samples]\n",
    "    ndr = ndr[:nr_samples]\n",
    "    prosieben = prosieben[:nr_samples]\n",
    "    sat1 = sat1[:nr_samples]\n",
    "    swr = swr[:nr_samples]\n",
    "    wdr = wdr[:nr_samples]\n",
    "    stat_dic = {}\n",
    "    #for x in stations:\n",
    "        #print(\"stat_dic[\\\"{}\\\"] = {}\".format(x,x))\n",
    "    stat_dic[\"ard\"] = ard\n",
    "    stat_dic[\"br\"] = br\n",
    "    stat_dic[\"kabel1\"] = kabel1\n",
    "    stat_dic[\"kabelDoku\"] = kabelDoku\n",
    "    stat_dic[\"max7\"] = max7\n",
    "    stat_dic[\"mdr\"] = mdr\n",
    "    stat_dic[\"n24\"] = n24\n",
    "    stat_dic[\"ndr\"] = ndr\n",
    "    stat_dic[\"prosieben\"] = prosieben\n",
    "    stat_dic[\"sat1\"] = sat1\n",
    "    stat_dic[\"swr\"] = swr\n",
    "    stat_dic[\"wdr\"] = wdr\n",
    "\n",
    "    return stat_dic"
   ]
  },
  {
   "cell_type": "code",
   "execution_count": 105,
   "metadata": {},
   "outputs": [],
   "source": [
    "# stations = !ls -1 ./aggtrain/\n",
    "# for x in stations:\n",
    "#     print(\"{} = [x for x in {} if (str(x[-5:-4]) in [str(x) for x in [0,2,4,7]]) and x not in done]\".format(x,x))\n",
    "\n",
    "# for x in stations:\n",
    "#     print(\"{} = {}[:nr_samples]\".format(x,x))"
   ]
  },
  {
   "cell_type": "code",
   "execution_count": 109,
   "metadata": {},
   "outputs": [],
   "source": [
    "findf = pd.DataFrame(columns = ['id','age','glasses','smile', 'gender','emotion','facialHair'])\n",
    "multit = get_list(400,[x for x in findf['id'].values])\n",
    "multit = [x for x in multit.values()]"
   ]
  },
  {
   "cell_type": "code",
   "execution_count": 110,
   "metadata": {
    "collapsed": true
   },
   "outputs": [],
   "source": [
    "#run 3 out of 6\n",
    "myarray = []\n",
    "def multif(value):\n",
    "    temp = add_to_df(getframes(value))\n",
    "    return temp "
   ]
  },
  {
   "cell_type": "code",
   "execution_count": 111,
   "metadata": {},
   "outputs": [
    {
     "name": "stdout",
     "output_type": "stream",
     "text": [
      "full:218 empty:182 total:400 swr/                             \r"
     ]
    }
   ],
   "source": [
    "p = Pool(10)\n",
    "fin = p.map(multif, multit)"
   ]
  },
  {
   "cell_type": "code",
   "execution_count": 112,
   "metadata": {},
   "outputs": [],
   "source": [
    "for x in fin:\n",
    "    findf = findf.append(x)"
   ]
  },
  {
   "cell_type": "code",
   "execution_count": 113,
   "metadata": {},
   "outputs": [],
   "source": [
    "findf.to_csv('final400.csv')"
   ]
  },
  {
   "cell_type": "code",
   "execution_count": 114,
   "metadata": {},
   "outputs": [
    {
     "data": {
      "text/plain": [
       "(2036, 7)"
      ]
     },
     "execution_count": 114,
     "metadata": {},
     "output_type": "execute_result"
    }
   ],
   "source": [
    "findf.shape"
   ]
  },
  {
   "cell_type": "code",
   "execution_count": 96,
   "metadata": {},
   "outputs": [
    {
     "data": {
      "text/plain": [
       "(861, 8)"
      ]
     },
     "execution_count": 96,
     "metadata": {},
     "output_type": "execute_result"
    }
   ],
   "source": []
  }
 ],
 "metadata": {
  "kernelspec": {
   "display_name": "Python 3",
   "language": "python",
   "name": "python3"
  },
  "language_info": {
   "codemirror_mode": {
    "name": "ipython",
    "version": 3
   },
   "file_extension": ".py",
   "mimetype": "text/x-python",
   "name": "python",
   "nbconvert_exporter": "python",
   "pygments_lexer": "ipython3",
   "version": "3.6.2"
  }
 },
 "nbformat": 4,
 "nbformat_minor": 2
}
